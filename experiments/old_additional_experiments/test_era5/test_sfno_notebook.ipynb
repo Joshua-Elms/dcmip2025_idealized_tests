{
 "cells": [
  {
   "cell_type": "code",
   "execution_count": 1,
   "id": "faf31a35",
   "metadata": {},
   "outputs": [
    {
     "name": "stdout",
     "output_type": "stream",
     "text": [
      "Loading model.\n"
     ]
    },
    {
     "name": "stderr",
     "output_type": "stream",
     "text": [
      "/glade/u/home/jmelms/software/earth2mip/earth2mip/networks/fcnv2_sm.py:155: FutureWarning: You are using `torch.load` with `weights_only=False` (the current default value), which uses the default pickle module implicitly. It is possible to construct malicious pickle data which will execute arbitrary code during unpickling (See https://github.com/pytorch/pytorch/blob/main/SECURITY.md#untrusted-models for more details). In a future release, the default value for `weights_only` will be flipped to `True`. This limits the functions that could be executed during unpickling. Arbitrary objects will no longer be allowed to be loaded via this mode unless they are explicitly allowlisted by the user via `torch.serialization.add_safe_globals`. We recommend you start setting `weights_only=True` for any use case where you don't have full control of the loaded file. Please open an issue on GitHub for any issues related to this experimental feature.\n",
      "  weights = torch.load(weights_path, map_location=device)\n"
     ]
    },
    {
     "name": "stdout",
     "output_type": "stream",
     "text": [
      "Model loaded.\n",
      "Initializing model.\n",
      "Model initialized.\n"
     ]
    },
    {
     "name": "stderr",
     "output_type": "stream",
     "text": [
      "/glade/u/home/jmelms/software/earth2mip/earth2mip/networks/fcnv2/layers.py:640: FutureWarning: `torch.cuda.amp.autocast(args...)` is deprecated. Please use `torch.amp.autocast('cuda', args...)` instead.\n",
      "  with amp.autocast(enabled=False):\n",
      "/glade/u/home/jmelms/software/earth2mip/earth2mip/networks/fcnv2/layers.py:649: FutureWarning: `torch.cuda.amp.autocast(args...)` is deprecated. Please use `torch.amp.autocast('cuda', args...)` instead.\n",
      "  with amp.autocast(enabled=False):\n"
     ]
    },
    {
     "name": "stdout",
     "output_type": "stream",
     "text": [
      "Step 2017-08-24 00:00:00 completed.\n",
      "Step 2017-08-24 06:00:00 completed.\n",
      "Step 2017-08-24 12:00:00 completed.\n",
      "Step 2017-08-24 18:00:00 completed.\n",
      "Step 2017-08-25 00:00:00 completed.\n",
      "Step 2017-08-25 06:00:00 completed.\n",
      "Step 2017-08-25 12:00:00 completed.\n",
      "Step 2017-08-25 18:00:00 completed.\n",
      "Step 2017-08-26 00:00:00 completed.\n",
      "Step 2017-08-26 06:00:00 completed.\n",
      "Step 2017-08-26 12:00:00 completed.\n",
      "Step 2017-08-26 18:00:00 completed.\n",
      "Step 2017-08-27 00:00:00 completed.\n",
      "Step 2017-08-27 06:00:00 completed.\n",
      "Step 2017-08-27 12:00:00 completed.\n",
      "Step 2017-08-27 18:00:00 completed.\n",
      "Step 2017-08-28 00:00:00 completed.\n",
      "Step 2017-08-28 06:00:00 completed.\n",
      "Step 2017-08-28 12:00:00 completed.\n",
      "Step 2017-08-28 18:00:00 completed.\n",
      "Step 2017-08-29 00:00:00 completed.\n"
     ]
    }
   ],
   "source": [
    "import xarray as xr\n",
    "import datetime as dt\n",
    "import torch\n",
    "import numpy as np\n",
    "import logging\n",
    "from earth2mip import networks\n",
    "from utils import inference\n",
    "import dotenv\n",
    "\n",
    "# load the earth2mip environment variables\n",
    "dotenv.load_dotenv()\n",
    "\n",
    "logging.basicConfig(level=logging.INFO)\n",
    "\n",
    "# initial time\n",
    "init_time = dt.datetime(2017, 8, 24, 00)\n",
    "end_time = dt.datetime(2017, 8, 29, 00)\n",
    "\n",
    "# load the model\n",
    "device = \"cuda:0\"\n",
    "print(\"Loading model.\")\n",
    "model = networks.get_model(\"fcnv2_sm\").to(device)\n",
    "print(\"Model loaded.\")\n",
    "\n",
    "# generate the initial condidtion\n",
    "print(\"Initializing model.\")\n",
    "breakpoint()\n",
    "x = inference.rda_era5_to_sfno_state(device=device, time = init_time)\n",
    "print(\"Model initialized.\")\n",
    "\n",
    "# run the model\n",
    "data_list = []\n",
    "times = []\n",
    "iterator = model(init_time, x)\n",
    "for k, (time, data, _) in enumerate(iterator):\n",
    "    print(f\"Step {time} completed.\")\n",
    "\n",
    "    # append the data to the list\n",
    "    # (move the data to the cpu (memory))\n",
    "    data_list.append(data.cpu())\n",
    "    # append the times too\n",
    "    times.append(time)\n",
    "\n",
    "    # check if we're at the end time\n",
    "    if time >= end_time:\n",
    "        break\n",
    "\n",
    "# stack the output data by time\n",
    "data = torch.stack(data_list)\n",
    "\n",
    "# unpack the data into an xarray object\n",
    "ds = inference.unpack_sfno_state(data, time = times)\n",
    "\n",
    "# save the data\n",
    "ds.squeeze().to_netcdf(\"harvey_test.nc\")\n"
   ]
  }
 ],
 "metadata": {
  "kernelspec": {
   "display_name": "earth2mip_graphcast",
   "language": "python",
   "name": "python3"
  },
  "language_info": {
   "codemirror_mode": {
    "name": "ipython",
    "version": 3
   },
   "file_extension": ".py",
   "mimetype": "text/x-python",
   "name": "python",
   "nbconvert_exporter": "python",
   "pygments_lexer": "ipython3",
   "version": "3.10.16"
  }
 },
 "nbformat": 4,
 "nbformat_minor": 5
}
