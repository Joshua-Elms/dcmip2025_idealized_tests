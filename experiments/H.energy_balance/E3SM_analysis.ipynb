{
 "cells": [
  {
   "cell_type": "code",
   "execution_count": null,
   "id": "461180b7",
   "metadata": {},
   "outputs": [
    {
     "ename": "",
     "evalue": "",
     "output_type": "error",
     "traceback": [
      "\u001b[1;31mFailed to start the Kernel. \n",
      "\u001b[1;31mUnable to start Kernel '.venv2 (3.12.11) (Python 3.12.11)' due to a timeout waiting for the ports to get used. \n",
      "\u001b[1;31mView Jupyter <a href='command:jupyter.viewOutput'>log</a> for further details."
     ]
    }
   ],
   "source": [
    "from pathlib import Path\n",
    "import xarray as xr\n",
    "from utils import model_info, general\n",
    "import scipy"
   ]
  },
  {
   "cell_type": "code",
   "execution_count": null,
   "id": "f40acc18",
   "metadata": {},
   "outputs": [],
   "source": [
    "dpath_str = \"/N/slate/jmelms/projects/dcmip2025_idealized_tests/experiments/H.energy_balance/data/E3SM_runs/v2.1.WCYCLSSP370_20180201-20180401_12n32p_original_20251013/run/v2.1.WCYCLSSP370_20180201-20180401_12n32p_original_20251013.eam.h1.2018-02-01-00000.nc\"\n",
    "dpath = Path(dpath_str)\n",
    "print(\"Retrieving data\")"
   ]
  },
  {
   "cell_type": "code",
   "execution_count": null,
   "id": "e8451887",
   "metadata": {},
   "outputs": [],
   "source": [
    "full_ds = xr.open_dataset(dpath)\n",
    "full_ds"
   ]
  },
  {
   "cell_type": "code",
   "execution_count": null,
   "id": "f3fcc861",
   "metadata": {},
   "outputs": [],
   "source": [
    "vars_in_ds = (set(map(str.upper, model_info.MASTER_VARIABLES_NAMES)) & set(full_ds.data_vars)) | {\"TMQ\", \"PS\", \"PHIS\", \"U050\", \"V050\", \"T050\", \"Z050\", \"Q050\", \"lat\"}\n",
    "e3sm_to_cds = {var: var.lower() for var in vars_in_ds}\n",
    "e3sm_to_cds[\"U050\"] = \"u50\" # 50 hPa zonal wind\n",
    "e3sm_to_cds[\"V050\"] = \"v50\" # 50 hPa meridional wind\n",
    "e3sm_to_cds[\"T050\"] = \"t50\" # 50 hPa temperature\n",
    "e3sm_to_cds[\"Z050\"] = \"z50\" # 50 hPa geopotential height\n",
    "e3sm_to_cds[\"Q050\"] = \"q50\" # 50 hPa specific humidity\n",
    "e3sm_to_cds[\"PS\"] = \"sp\" # surface pressure\n",
    "e3sm_to_cds[\"PHIS\"] = \"z\" # surface geopotential\n",
    "e3sm_to_cds[\"TMQ\"] = \"tcwv\" # total column water vapor\n",
    "ds = full_ds[vars_in_ds].rename(e3sm_to_cds)\n",
    "ds"
   ]
  },
  {
   "cell_type": "code",
   "execution_count": null,
   "id": "c8d6df4e",
   "metadata": {},
   "outputs": [],
   "source": [
    "for var in full_ds.data_vars:\n",
    "    if var not in vars_in_ds:\n",
    "        print(f\"{var}: {full_ds[var].attrs.get('long_name', '')}\")"
   ]
  },
  {
   "cell_type": "code",
   "execution_count": null,
   "id": "a5be0e1f",
   "metadata": {},
   "outputs": [],
   "source": [
    "# Set constants\n",
    "cp = 1005.0  # J/kg/K\n",
    "g = 9.81  # m/s^2\n",
    "Lv = 2.26e6  # J/kg\n",
    "sb_const = 5.670374419e-8  # W/m^2/K^4, from https://physics.nist.gov/cgi-bin/cuu/Value?sigma"
   ]
  },
  {
   "cell_type": "code",
   "execution_count": null,
   "id": "6b747b2a",
   "metadata": {},
   "outputs": [],
   "source": [
    "## Step 4a: Compute a mask of the p-levels above the surface for integration ###\n",
    "sp = ds[\"sp\"] / 100\n",
    "sp_expanded = sp.expand_dims(dim={\"level\": ds.sizes[\"level\"]}, axis=-1)\n",
    "expand_dict = {dim: ds.sizes[dim] for dim in ds.dims if dim != \"level\"}\n",
    "levs_expanded = ds[\"level\"].expand_dims(dim=expand_dict)\n",
    "mask = levs_expanded <= sp_expanded\n",
    "ds[\"terrain_mask\"] = mask\n",
    "\n",
    "### Step 4b: Get pressure for integration ###\n",
    "pa = 100 * ds.level.values # convert to Pa from hPa, used for integration\n",
    "\n",
    "### Step 4c: Calculate total energy components ###\n",
    "# sensible heat\n",
    "sensible_heat = cp * ds[\"T\"]\n",
    "# latent heat - this is already column-integrated\n",
    "latent_heat = Lv * ds[\"TCW\"]\n",
    "# geopotential energy\n",
    "geopotential_energy = ds[\"Z\"] # geopotential energy is already in J/kg, no need to multiply by g\n",
    "# kinetic energy\n",
    "kinetic_energy = 0.5 * ds[\"U\"] ** 2 + 0.5 * ds[\"V\"] ** 2\n",
    "\n",
    "### Step 4d: Calculate total energy by adding all components ###\n",
    "# total energy minus latent heat\n",
    "dry_total_energy = sensible_heat + geopotential_energy + kinetic_energy\n",
    "dry_total_energy = dry_total_energy.where(mask, 0.0) # set values below surface to 0\n",
    "# column integration\n",
    "print(f\"Integrating dry total energy with shape {dry_total_energy.shape} and pa with shape {pa.shape}\")\n",
    "dry_total_energy_column = (1 / g) * scipy.integrate.trapezoid( # add nan-safe version\n",
    "    dry_total_energy, pa, axis=3\n",
    ")\n",
    "\n",
    "# sum\n",
    "ds[\"VAR_TE\"] = (expand_dict, dry_total_energy_column + latent_heat.values)\n",
    "ds[\"VAR_TE\"] = ds[\"VAR_TE\"].assign_attrs(\n",
    "    {\"units\": \"J/m^2\", \"long_name\": \"Total Energy\"}\n",
    ")\n",
    "\n",
    "### Step 4e: Weight by latitude ####\n",
    "# get latitude weighted total energy (time, ensemble)\n",
    "ds[\"LW_TE\"] = general.latitude_weighted_mean(ds[\"VAR_TE\"], ds.latitude)\n",
    "ds[\"LW_TE\"].assign_attrs(\n",
    "    {\"units\": \"J/m^2\", \"long_name\": \"Latitude-Weighted Total Energy\"}\n",
    ")"
   ]
  }
 ],
 "metadata": {
  "kernelspec": {
   "display_name": ".venv2 (3.12.11)",
   "language": "python",
   "name": "python3"
  },
  "language_info": {
   "codemirror_mode": {
    "name": "ipython",
    "version": 3
   },
   "file_extension": ".py",
   "mimetype": "text/x-python",
   "name": "python",
   "nbconvert_exporter": "python",
   "pygments_lexer": "ipython3",
   "version": "3.12.11"
  }
 },
 "nbformat": 4,
 "nbformat_minor": 5
}
